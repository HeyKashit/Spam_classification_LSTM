{
 "cells": [
  {
   "cell_type": "markdown",
   "id": "8de7ad44",
   "metadata": {},
   "source": [
    "# Spam Classification using LSTM(RNN)"
   ]
  },
  {
   "cell_type": "code",
   "execution_count": 1,
   "id": "75addafa",
   "metadata": {
    "_cell_guid": "b1076dfc-b9ad-4769-8c92-a6c4dae69d19",
    "_uuid": "8f2839f25d086af736a60e9eeb907d3b93b6e0e5",
    "execution": {
     "iopub.execute_input": "2021-07-15T06:17:50.294609Z",
     "iopub.status.busy": "2021-07-15T06:17:50.293982Z",
     "iopub.status.idle": "2021-07-15T06:17:50.306185Z",
     "shell.execute_reply": "2021-07-15T06:17:50.306822Z",
     "shell.execute_reply.started": "2021-07-14T20:02:40.906868Z"
    },
    "papermill": {
     "duration": 0.036008,
     "end_time": "2021-07-15T06:17:50.307140",
     "exception": false,
     "start_time": "2021-07-15T06:17:50.271132",
     "status": "completed"
    },
    "tags": []
   },
   "outputs": [],
   "source": [
    "import numpy as np \n",
    "import pandas as pd "
   ]
  },
  {
   "cell_type": "code",
   "execution_count": 2,
   "id": "7e681b7b",
   "metadata": {
    "execution": {
     "iopub.execute_input": "2021-07-15T06:17:50.338041Z",
     "iopub.status.busy": "2021-07-15T06:17:50.337485Z",
     "iopub.status.idle": "2021-07-15T06:17:51.317642Z",
     "shell.execute_reply": "2021-07-15T06:17:51.318099Z",
     "shell.execute_reply.started": "2021-07-14T20:02:40.924452Z"
    },
    "papermill": {
     "duration": 0.997149,
     "end_time": "2021-07-15T06:17:51.318259",
     "exception": false,
     "start_time": "2021-07-15T06:17:50.321110",
     "status": "completed"
    },
    "tags": []
   },
   "outputs": [
    {
     "data": {
      "text/html": [
       "<div>\n",
       "<style scoped>\n",
       "    .dataframe tbody tr th:only-of-type {\n",
       "        vertical-align: middle;\n",
       "    }\n",
       "\n",
       "    .dataframe tbody tr th {\n",
       "        vertical-align: top;\n",
       "    }\n",
       "\n",
       "    .dataframe thead th {\n",
       "        text-align: right;\n",
       "    }\n",
       "</style>\n",
       "<table border=\"1\" class=\"dataframe\">\n",
       "  <thead>\n",
       "    <tr style=\"text-align: right;\">\n",
       "      <th></th>\n",
       "      <th>label</th>\n",
       "      <th>text</th>\n",
       "    </tr>\n",
       "  </thead>\n",
       "  <tbody>\n",
       "    <tr>\n",
       "      <th>0</th>\n",
       "      <td>ham</td>\n",
       "      <td>Go until jurong point, crazy.. Available only in bugis n great world la e buffet... Cine there got amore wat...</td>\n",
       "    </tr>\n",
       "    <tr>\n",
       "      <th>1</th>\n",
       "      <td>ham</td>\n",
       "      <td>Ok lar... Joking wif u oni...</td>\n",
       "    </tr>\n",
       "    <tr>\n",
       "      <th>2</th>\n",
       "      <td>spam</td>\n",
       "      <td>Free entry in 2 a wkly comp to win FA Cup final tkts 21st May 2005. Text FA to 87121 to receive entry question(std txt rate)T&amp;C's apply 08452810075over18's</td>\n",
       "    </tr>\n",
       "    <tr>\n",
       "      <th>3</th>\n",
       "      <td>ham</td>\n",
       "      <td>U dun say so early hor... U c already then say...</td>\n",
       "    </tr>\n",
       "    <tr>\n",
       "      <th>4</th>\n",
       "      <td>ham</td>\n",
       "      <td>Nah I don't think he goes to usf, he lives around here though</td>\n",
       "    </tr>\n",
       "  </tbody>\n",
       "</table>\n",
       "</div>"
      ],
      "text/plain": [
       "  label  \\\n",
       "0   ham   \n",
       "1   ham   \n",
       "2  spam   \n",
       "3   ham   \n",
       "4   ham   \n",
       "\n",
       "                                                                                                                                                          text  \n",
       "0                                              Go until jurong point, crazy.. Available only in bugis n great world la e buffet... Cine there got amore wat...  \n",
       "1                                                                                                                                Ok lar... Joking wif u oni...  \n",
       "2  Free entry in 2 a wkly comp to win FA Cup final tkts 21st May 2005. Text FA to 87121 to receive entry question(std txt rate)T&C's apply 08452810075over18's  \n",
       "3                                                                                                            U dun say so early hor... U c already then say...  \n",
       "4                                                                                                Nah I don't think he goes to usf, he lives around here though  "
      ]
     },
     "execution_count": 2,
     "metadata": {},
     "output_type": "execute_result"
    }
   ],
   "source": [
    "from sklearn.model_selection import train_test_split\n",
    "pd.set_option('display.max_colwidth', 1000)\n",
    "\n",
    "messages = pd.read_csv('spam.csv', encoding='latin-1')\n",
    "messages = messages.drop(labels = [\"Unnamed: 2\", \"Unnamed: 3\", \"Unnamed: 4\"], axis = 1)\n",
    "messages.columns = [\"label\", \"text\"]\n",
    "labels = np.where(messages['label']=='spam', 1, 0)\n",
    "\n",
    "X_train, X_test, y_train, y_test = train_test_split(messages['text'],\n",
    "                                                    labels, test_size=0.2)\n",
    "\n",
    "messages.head()"
   ]
  },
  {
   "cell_type": "code",
   "execution_count": 3,
   "id": "afc5be47",
   "metadata": {
    "execution": {
     "iopub.execute_input": "2021-07-15T06:17:51.358810Z",
     "iopub.status.busy": "2021-07-15T06:17:51.358177Z",
     "iopub.status.idle": "2021-07-15T06:17:51.361798Z",
     "shell.execute_reply": "2021-07-15T06:17:51.361208Z",
     "shell.execute_reply.started": "2021-07-14T20:02:42.043442Z"
    },
    "papermill": {
     "duration": 0.029695,
     "end_time": "2021-07-15T06:17:51.361923",
     "exception": false,
     "start_time": "2021-07-15T06:17:51.332228",
     "status": "completed"
    },
    "tags": []
   },
   "outputs": [],
   "source": [
    "def remove_punctuation(text):\n",
    "    import string\n",
    "    text = \"\".join([char for char in text if char not in string.punctuation])\n",
    "    return text"
   ]
  },
  {
   "cell_type": "code",
   "execution_count": 4,
   "id": "95e38453",
   "metadata": {
    "execution": {
     "iopub.execute_input": "2021-07-15T06:17:51.394568Z",
     "iopub.status.busy": "2021-07-15T06:17:51.393887Z",
     "iopub.status.idle": "2021-07-15T06:17:56.215848Z",
     "shell.execute_reply": "2021-07-15T06:17:56.215082Z",
     "shell.execute_reply.started": "2021-07-14T20:02:42.050049Z"
    },
    "papermill": {
     "duration": 4.839494,
     "end_time": "2021-07-15T06:17:56.216008",
     "exception": false,
     "start_time": "2021-07-15T06:17:51.376514",
     "status": "completed"
    },
    "tags": []
   },
   "outputs": [],
   "source": [
    "from keras.preprocessing.text import Tokenizer\n",
    "from keras.preprocessing.sequence import pad_sequences"
   ]
  },
  {
   "cell_type": "code",
   "execution_count": 5,
   "id": "88b40e4b",
   "metadata": {
    "execution": {
     "iopub.execute_input": "2021-07-15T06:17:56.261113Z",
     "iopub.status.busy": "2021-07-15T06:17:56.255916Z",
     "iopub.status.idle": "2021-07-15T06:17:56.358744Z",
     "shell.execute_reply": "2021-07-15T06:17:56.358152Z",
     "shell.execute_reply.started": "2021-07-14T20:02:47.886176Z"
    },
    "papermill": {
     "duration": 0.128588,
     "end_time": "2021-07-15T06:17:56.358866",
     "exception": false,
     "start_time": "2021-07-15T06:17:56.230278",
     "status": "completed"
    },
    "tags": []
   },
   "outputs": [],
   "source": [
    "tokenizer = Tokenizer()\n",
    "tokenizer.fit_on_texts(X_train)"
   ]
  },
  {
   "cell_type": "code",
   "execution_count": 6,
   "id": "0dceef2a",
   "metadata": {
    "execution": {
     "iopub.execute_input": "2021-07-15T06:17:56.390600Z",
     "iopub.status.busy": "2021-07-15T06:17:56.389902Z",
     "iopub.status.idle": "2021-07-15T06:17:56.393747Z",
     "shell.execute_reply": "2021-07-15T06:17:56.393222Z",
     "shell.execute_reply.started": "2021-07-14T20:02:48.010961Z"
    },
    "papermill": {
     "duration": 0.022653,
     "end_time": "2021-07-15T06:17:56.393870",
     "exception": false,
     "start_time": "2021-07-15T06:17:56.371217",
     "status": "completed"
    },
    "tags": []
   },
   "outputs": [
    {
     "name": "stdout",
     "output_type": "stream",
     "text": [
      "2612                                                                                                                                   Yes. It's all innocent fun. O:-)\n",
      "4013                                                                                                      Sorry, I can't text &amp; drive coherently, see you in twenty\n",
      "3822    Please protect yourself from e-threats. SIB never asks for sensitive information like Passwords,ATM/SMS PIN thru email. Never share your password with anybody.\n",
      "1138                                                                                                                                                  What * u wearing?\n",
      "3809                                                                                                                                Aight, can you text me the address?\n",
      "                                                                                     ...                                                                               \n",
      "4464                                                                \\CHEERS FOR CALLIN BABE.SOZI CULDNT TALKBUT I WANNATELL U DETAILS LATER WENWECAN CHAT PROPERLY X\\\"\"\n",
      "5426                                                                                                                      Oh yeah! And my diet just flew out the window\n",
      "170                                                                                                                  Sir, I need AXIS BANK account no and bank address.\n",
      "1141     I don't know u and u don't know me. Send CHAT to 86688 now and let's find each other! Only 150p/Msg rcvd. HG/Suite342/2Lands/Row/W1J6HL LDN. 18 years or over.\n",
      "3255                                             Who were those people ? Were you in a tour ? I thought you were doing that sofa thing you sent me ? Your curious sugar\n",
      "Name: text, Length: 4457, dtype: object\n"
     ]
    }
   ],
   "source": [
    "print(X_train)"
   ]
  },
  {
   "cell_type": "code",
   "execution_count": 7,
   "id": "0dc17155",
   "metadata": {
    "execution": {
     "iopub.execute_input": "2021-07-15T06:17:56.457635Z",
     "iopub.status.busy": "2021-07-15T06:17:56.452422Z",
     "iopub.status.idle": "2021-07-15T06:17:56.521820Z",
     "shell.execute_reply": "2021-07-15T06:17:56.521312Z",
     "shell.execute_reply.started": "2021-07-14T20:02:48.019536Z"
    },
    "papermill": {
     "duration": 0.115061,
     "end_time": "2021-07-15T06:17:56.521958",
     "exception": false,
     "start_time": "2021-07-15T06:17:56.406897",
     "status": "completed"
    },
    "tags": []
   },
   "outputs": [],
   "source": [
    "X_train_seq = tokenizer.texts_to_sequences(X_train)\n",
    "X_test_seq = tokenizer.texts_to_sequences(X_test)"
   ]
  },
  {
   "cell_type": "code",
   "execution_count": 8,
   "id": "9800eb4d",
   "metadata": {
    "execution": {
     "iopub.execute_input": "2021-07-15T06:17:56.552316Z",
     "iopub.status.busy": "2021-07-15T06:17:56.551793Z",
     "iopub.status.idle": "2021-07-15T06:17:56.603321Z",
     "shell.execute_reply": "2021-07-15T06:17:56.602671Z",
     "shell.execute_reply.started": "2021-07-14T20:02:48.138292Z"
    },
    "papermill": {
     "duration": 0.068495,
     "end_time": "2021-07-15T06:17:56.603476",
     "exception": false,
     "start_time": "2021-07-15T06:17:56.534981",
     "status": "completed"
    },
    "tags": []
   },
   "outputs": [],
   "source": [
    "X_train_seq_padded = pad_sequences(X_train_seq, 50)\n",
    "X_test_seq_padded = pad_sequences(X_test_seq, 50)"
   ]
  },
  {
   "cell_type": "code",
   "execution_count": 9,
   "id": "72a9f087",
   "metadata": {
    "execution": {
     "iopub.execute_input": "2021-07-15T06:17:56.634072Z",
     "iopub.status.busy": "2021-07-15T06:17:56.633428Z",
     "iopub.status.idle": "2021-07-15T06:17:56.636907Z",
     "shell.execute_reply": "2021-07-15T06:17:56.637395Z",
     "shell.execute_reply.started": "2021-07-14T20:02:48.197720Z"
    },
    "papermill": {
     "duration": 0.020926,
     "end_time": "2021-07-15T06:17:56.637591",
     "exception": false,
     "start_time": "2021-07-15T06:17:56.616665",
     "status": "completed"
    },
    "tags": []
   },
   "outputs": [
    {
     "data": {
      "text/plain": [
       "[153, 142, 51, 2555, 474, 668]"
      ]
     },
     "execution_count": 9,
     "metadata": {},
     "output_type": "execute_result"
    }
   ],
   "source": [
    "X_train_seq[0]"
   ]
  },
  {
   "cell_type": "code",
   "execution_count": 10,
   "id": "038aceff",
   "metadata": {
    "execution": {
     "iopub.execute_input": "2021-07-15T06:17:56.667186Z",
     "iopub.status.busy": "2021-07-15T06:17:56.666617Z",
     "iopub.status.idle": "2021-07-15T06:17:56.669580Z",
     "shell.execute_reply": "2021-07-15T06:17:56.669105Z",
     "shell.execute_reply.started": "2021-07-14T20:02:48.205513Z"
    },
    "papermill": {
     "duration": 0.019318,
     "end_time": "2021-07-15T06:17:56.669693",
     "exception": false,
     "start_time": "2021-07-15T06:17:56.650375",
     "status": "completed"
    },
    "tags": []
   },
   "outputs": [],
   "source": [
    "from keras.layers import Dense, Embedding, LSTM\n",
    "from keras.models import Sequential"
   ]
  },
  {
   "cell_type": "code",
   "execution_count": 11,
   "id": "067d68f6",
   "metadata": {
    "execution": {
     "iopub.execute_input": "2021-07-15T06:17:56.699347Z",
     "iopub.status.busy": "2021-07-15T06:17:56.698770Z",
     "iopub.status.idle": "2021-07-15T06:17:57.224106Z",
     "shell.execute_reply": "2021-07-15T06:17:57.223595Z",
     "shell.execute_reply.started": "2021-07-14T20:02:48.216699Z"
    },
    "papermill": {
     "duration": 0.541334,
     "end_time": "2021-07-15T06:17:57.224239",
     "exception": false,
     "start_time": "2021-07-15T06:17:56.682905",
     "status": "completed"
    },
    "tags": []
   },
   "outputs": [
    {
     "name": "stdout",
     "output_type": "stream",
     "text": [
      "Model: \"sequential\"\n",
      "_________________________________________________________________\n",
      "Layer (type)                 Output Shape              Param #   \n",
      "=================================================================\n",
      "embedding (Embedding)        (None, None, 32)          254112    \n",
      "_________________________________________________________________\n",
      "lstm (LSTM)                  (None, 32)                8320      \n",
      "_________________________________________________________________\n",
      "dense (Dense)                (None, 32)                1056      \n",
      "_________________________________________________________________\n",
      "dense_1 (Dense)              (None, 1)                 33        \n",
      "=================================================================\n",
      "Total params: 263,521\n",
      "Trainable params: 263,521\n",
      "Non-trainable params: 0\n",
      "_________________________________________________________________\n"
     ]
    }
   ],
   "source": [
    "model = Sequential()\n",
    "\n",
    "model.add(Embedding(len(tokenizer.index_word)+1, 32))\n",
    "model.add(LSTM(32))\n",
    "model.add(Dense(32, activation='relu'))\n",
    "model.add(Dense(1, activation='sigmoid'))\n",
    "model.summary()"
   ]
  },
  {
   "cell_type": "code",
   "execution_count": 12,
   "id": "8caba26e",
   "metadata": {
    "execution": {
     "iopub.execute_input": "2021-07-15T06:17:57.253510Z",
     "iopub.status.busy": "2021-07-15T06:17:57.252899Z",
     "iopub.status.idle": "2021-07-15T06:17:57.267114Z",
     "shell.execute_reply": "2021-07-15T06:17:57.267611Z",
     "shell.execute_reply.started": "2021-07-14T20:02:48.817184Z"
    },
    "papermill": {
     "duration": 0.030404,
     "end_time": "2021-07-15T06:17:57.267769",
     "exception": false,
     "start_time": "2021-07-15T06:17:57.237365",
     "status": "completed"
    },
    "tags": []
   },
   "outputs": [],
   "source": [
    "model.compile(optimizer='adam',\n",
    "              loss='binary_crossentropy',\n",
    "              metrics=['accuracy'])"
   ]
  },
  {
   "cell_type": "code",
   "execution_count": 13,
   "id": "4590b0db",
   "metadata": {
    "execution": {
     "iopub.execute_input": "2021-07-15T06:17:57.298192Z",
     "iopub.status.busy": "2021-07-15T06:17:57.297601Z",
     "iopub.status.idle": "2021-07-15T06:18:30.115833Z",
     "shell.execute_reply": "2021-07-15T06:18:30.115322Z",
     "shell.execute_reply.started": "2021-07-14T20:02:48.837000Z"
    },
    "papermill": {
     "duration": 32.834668,
     "end_time": "2021-07-15T06:18:30.115964",
     "exception": false,
     "start_time": "2021-07-15T06:17:57.281296",
     "status": "completed"
    },
    "tags": []
   },
   "outputs": [
    {
     "name": "stdout",
     "output_type": "stream",
     "text": [
      "Epoch 1/10\n",
      "140/140 [==============================] - 21s 17ms/step - loss: 0.4138 - accuracy: 0.8765 - val_loss: 0.0692 - val_accuracy: 0.9830\n",
      "Epoch 2/10\n",
      "140/140 [==============================] - 2s 13ms/step - loss: 0.0418 - accuracy: 0.9880 - val_loss: 0.0491 - val_accuracy: 0.9883\n",
      "Epoch 3/10\n",
      "140/140 [==============================] - 2s 13ms/step - loss: 0.0130 - accuracy: 0.9972 - val_loss: 0.0586 - val_accuracy: 0.9874\n",
      "Epoch 4/10\n",
      "140/140 [==============================] - 2s 13ms/step - loss: 0.0025 - accuracy: 0.9994 - val_loss: 0.0581 - val_accuracy: 0.9830\n",
      "Epoch 5/10\n",
      "140/140 [==============================] - 2s 13ms/step - loss: 0.0014 - accuracy: 0.9998 - val_loss: 0.0691 - val_accuracy: 0.9848\n",
      "Epoch 6/10\n",
      "140/140 [==============================] - 2s 13ms/step - loss: 7.8048e-04 - accuracy: 0.9999 - val_loss: 0.0752 - val_accuracy: 0.9830\n",
      "Epoch 7/10\n",
      "140/140 [==============================] - 2s 13ms/step - loss: 2.9374e-04 - accuracy: 1.0000 - val_loss: 0.0838 - val_accuracy: 0.9830\n",
      "Epoch 8/10\n",
      "140/140 [==============================] - 2s 13ms/step - loss: 1.2367e-04 - accuracy: 1.0000 - val_loss: 0.0869 - val_accuracy: 0.9830\n",
      "Epoch 9/10\n",
      "140/140 [==============================] - 2s 13ms/step - loss: 1.0773e-04 - accuracy: 1.0000 - val_loss: 0.0887 - val_accuracy: 0.9839\n",
      "Epoch 10/10\n",
      "140/140 [==============================] - 2s 13ms/step - loss: 7.3014e-05 - accuracy: 1.0000 - val_loss: 0.0904 - val_accuracy: 0.9848\n"
     ]
    }
   ],
   "source": [
    "history = model.fit(X_train_seq_padded, y_train, \n",
    "                    batch_size=32, epochs=10,\n",
    "                    validation_data=(X_test_seq_padded, y_test))"
   ]
  },
  {
   "cell_type": "code",
   "execution_count": 14,
   "id": "74e33ec9",
   "metadata": {
    "execution": {
     "iopub.execute_input": "2021-07-15T06:18:30.429022Z",
     "iopub.status.busy": "2021-07-15T06:18:30.428391Z",
     "iopub.status.idle": "2021-07-15T06:18:30.614909Z",
     "shell.execute_reply": "2021-07-15T06:18:30.615380Z",
     "shell.execute_reply.started": "2021-07-14T20:03:30.187085Z"
    },
    "papermill": {
     "duration": 0.351003,
     "end_time": "2021-07-15T06:18:30.615624",
     "exception": false,
     "start_time": "2021-07-15T06:18:30.264621",
     "status": "completed"
    },
    "tags": []
   },
   "outputs": [
    {
     "data": {
      "text/plain": [
       "Text(0.5, 0, 'epoch')"
      ]
     },
     "execution_count": 14,
     "metadata": {},
     "output_type": "execute_result"
    },
    {
     "data": {
      "image/png": "[encoded data removed]",
      "text/plain": [
       "<Figure size 432x288 with 1 Axes>"
      ]
     },
     "metadata": {
      "needs_background": "light"
     },
     "output_type": "display_data"
    }
   ],
   "source": [
    "import matplotlib.pyplot as plt\n",
    "\n",
    "plt.plot(history.history['accuracy'])\n",
    "plt.plot(history.history['val_accuracy'])\n",
    "plt.legend(['Training', 'Validation'])\n",
    "plt.title('Training and validation accuracy')\n",
    "plt.xlabel('epoch')"
   ]
  },
  {
   "cell_type": "code",
   "execution_count": null,
   "id": "1a131759",
   "metadata": {},
   "outputs": [],
   "source": []
  }
 ],
 "metadata": {
  "kernelspec": {
   "display_name": "Python 3",
   "language": "python",
   "name": "python3"
  },
  "language_info": {
   "codemirror_mode": {
    "name": "ipython",
    "version": 3
   },
   "file_extension": ".py",
   "mimetype": "text/x-python",
   "name": "python",
   "nbconvert_exporter": "python",
   "pygments_lexer": "ipython3",
   "version": "3.8.8"
  },
  "papermill": {
   "default_parameters": {},
   "duration": 48.639956,
   "end_time": "2021-07-15T06:18:31.979075",
   "environment_variables": {},
   "exception": null,
   "input_path": "__notebook__.ipynb",
   "output_path": "__notebook__.ipynb",
   "parameters": {},
   "start_time": "2021-07-15T06:17:43.339119",
   "version": "2.3.3"
  }
 },
 "nbformat": 4,
 "nbformat_minor": 5
}
